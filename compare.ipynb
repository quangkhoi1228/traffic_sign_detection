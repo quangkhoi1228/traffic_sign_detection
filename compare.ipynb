{
 "cells": [
  {
   "cell_type": "code",
   "execution_count": 1,
   "metadata": {},
   "outputs": [
    {
     "name": "stdout",
     "output_type": "stream",
     "text": [
      "0.787570595741272\n",
      "0.8128122687339783\n",
      "True\n",
      "50\n",
      "50\n"
     ]
    },
    {
     "data": {
      "text/plain": [
       "<Figure size 1200x400 with 1 Axes>"
      ]
     },
     "metadata": {},
     "output_type": "display_data"
    }
   ],
   "source": [
    "import cv2\n",
    "import numpy as np\n",
    "import matplotlib.pyplot as plt\n",
    "from skimage import io\n",
    "import random\n",
    "import os\n",
    "    \n",
    "    \n",
    "# method = cv2.TM_SQDIFF_NORMED\n",
    "method = cv2.TM_CCOEFF_NORMED\n",
    "\n",
    "# Read the images from the file\n",
    "small_image = cv2.imread('/Volumes/home/khoi/Project/traffic_sign_detection/media/1_crop.jpg')\n",
    "large_image = cv2.imread('/Volumes/home/khoi/Project/traffic_sign_detection/media/2_crop.jpg')\n",
    "\n",
    "result = cv2.matchTemplate(small_image, large_image, method)\n",
    "\n",
    "# We want the minimum squared difference\n",
    "mn,_,mnLoc,_ = cv2.minMaxLoc(result)\n",
    "minVal, maxVal, minLoc, maxLoc = cv2.minMaxLoc(result)\n",
    "\n",
    "print(minVal)\n",
    "\n",
    "print(maxVal)\n",
    "\n",
    "threshold = 0.8\n",
    "flag = False\n",
    "for i in result:\n",
    "    if i.any() > threshold:\n",
    "        flag = True\n",
    "\n",
    "print(flag)\n",
    "# Draw the rectangle:\n",
    "# Extract the coordinates of our best match\n",
    "MPx,MPy = mnLoc\n",
    "\n",
    "# Step 2: Get the size of the template. This is the same size as the match.\n",
    "trows,tcols = small_image.shape[:2]\n",
    "print(trows)\n",
    "print(tcols)\n",
    "\n",
    "# Step 3: Draw the rectangle on large_image\n",
    "cv2.rectangle(large_image, (MPx,MPy),(MPx+tcols,MPy+trows),(0,0,255),2)\n",
    "\n",
    "# Display the original image with the rectangle around the match.\n",
    "fig_size = plt.rcParams[\"figure.figsize\"]\n",
    "fig_size[0] = 12\n",
    "fig_size[1] = 4\n",
    "plt.rcParams[\"figure.figsize\"] = fig_size\n",
    "    \n",
    "plt.axis('off')\n",
    "plt.title('imm')\n",
    "plt.imshow(cv2.cvtColor(large_image,cv2.COLOR_BGR2RGB))\n",
    "plt.show()\n",
    "# cv2.imshow('output',large_image)\n",
    "\n",
    "# cv2.waitKey(0)\n",
    "\n",
    "\n"
   ]
  },
  {
   "cell_type": "code",
   "execution_count": null,
   "metadata": {},
   "outputs": [],
   "source": []
  }
 ],
 "metadata": {
  "kernelspec": {
   "display_name": "Python 3",
   "language": "python",
   "name": "python3"
  },
  "language_info": {
   "codemirror_mode": {
    "name": "ipython",
    "version": 3
   },
   "file_extension": ".py",
   "mimetype": "text/x-python",
   "name": "python",
   "nbconvert_exporter": "python",
   "pygments_lexer": "ipython3",
   "version": "3.7.3"
  }
 },
 "nbformat": 4,
 "nbformat_minor": 2
}
