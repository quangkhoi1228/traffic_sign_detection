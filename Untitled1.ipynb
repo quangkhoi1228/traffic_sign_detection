{
 "cells": [
  {
   "cell_type": "code",
   "execution_count": 1,
   "metadata": {},
   "outputs": [
    {
     "ename": "AttributeError",
     "evalue": "module 'cv2.cv2' has no attribute 'xfeatures2d'",
     "output_type": "error",
     "traceback": [
      "\u001b[0;31m---------------------------------------------------------------------------\u001b[0m",
      "\u001b[0;31mAttributeError\u001b[0m                            Traceback (most recent call last)",
      "\u001b[0;32m<ipython-input-1-ef8910e84b56>\u001b[0m in \u001b[0;36m<module>\u001b[0;34m\u001b[0m\n\u001b[1;32m      4\u001b[0m \u001b[0moriginal\u001b[0m \u001b[0;34m=\u001b[0m \u001b[0mcv2\u001b[0m\u001b[0;34m.\u001b[0m\u001b[0mimread\u001b[0m\u001b[0;34m(\u001b[0m\u001b[0;34m\"/Volumes/home/khoi/Project/traffic_sign_detection/media/16_crop.jpg\"\u001b[0m\u001b[0;34m)\u001b[0m\u001b[0;34m\u001b[0m\u001b[0;34m\u001b[0m\u001b[0m\n\u001b[1;32m      5\u001b[0m \u001b[0;31m# Sift and Flann\u001b[0m\u001b[0;34m\u001b[0m\u001b[0;34m\u001b[0m\u001b[0;34m\u001b[0m\u001b[0m\n\u001b[0;32m----> 6\u001b[0;31m \u001b[0msift\u001b[0m \u001b[0;34m=\u001b[0m \u001b[0mcv2\u001b[0m\u001b[0;34m.\u001b[0m\u001b[0mxfeatures2d\u001b[0m\u001b[0;34m.\u001b[0m\u001b[0mSIFT_create\u001b[0m\u001b[0;34m(\u001b[0m\u001b[0;34m)\u001b[0m\u001b[0;34m\u001b[0m\u001b[0;34m\u001b[0m\u001b[0m\n\u001b[0m\u001b[1;32m      7\u001b[0m \u001b[0;31m# sift = cv2.FeatureDetector_create(\"SIFT\")\u001b[0m\u001b[0;34m\u001b[0m\u001b[0;34m\u001b[0m\u001b[0;34m\u001b[0m\u001b[0m\n\u001b[1;32m      8\u001b[0m \u001b[0mkp_1\u001b[0m\u001b[0;34m,\u001b[0m \u001b[0mdesc_1\u001b[0m \u001b[0;34m=\u001b[0m \u001b[0msift\u001b[0m\u001b[0;34m.\u001b[0m\u001b[0mdetectAndCompute\u001b[0m\u001b[0;34m(\u001b[0m\u001b[0moriginal\u001b[0m\u001b[0;34m,\u001b[0m \u001b[0;32mNone\u001b[0m\u001b[0;34m)\u001b[0m\u001b[0;34m\u001b[0m\u001b[0;34m\u001b[0m\u001b[0m\n",
      "\u001b[0;31mAttributeError\u001b[0m: module 'cv2.cv2' has no attribute 'xfeatures2d'"
     ]
    }
   ],
   "source": [
    "import cv2\n",
    "import numpy as np\n",
    "import glob\n",
    "original = cv2.imread(\"/Volumes/home/khoi/Project/traffic_sign_detection/media/16_crop.jpg\")\n",
    "# Sift and Flann\n",
    "sift = cv2.xfeatures2d.SIFT_create()\n",
    "# sift = cv2.FeatureDetector_create(\"SIFT\")\n",
    "kp_1, desc_1 = sift.detectAndCompute(original, None)\n",
    "index_params = dict(algorithm=0, trees=5)\n",
    "search_params = dict()\n",
    "flann = cv2.FlannBasedMatcher(index_params, search_params)\n",
    "# Load all the images\n",
    "all_images_to_compare = []\n",
    "titles = []\n",
    "for f in glob.iglob(\"/Volumes/home/khoi/Project/traffic_sign_detection/media/*\"):\n",
    "    image = cv2.imread(f)\n",
    "    titles.append(f)\n",
    "    all_images_to_compare.append(image)\n",
    "    \n",
    "for image_to_compare, title in zip(all_images_to_compare, titles):\n",
    "    # 1) Check if 2 images are equals\n",
    "    if original.shape == image_to_compare.shape:\n",
    "        print(\"The images have same size and channels\")\n",
    "        difference = cv2.subtract(original, image_to_compare)\n",
    "        b, g, r = cv2.split(difference)\n",
    "        if cv2.countNonZero(b) == 0 and cv2.countNonZero(g) == 0 and cv2.countNonZero(r) == 0:\n",
    "            print(\"Similarity: 100% (equal size and channels)\")\n",
    "            break\n",
    "    # 2) Check for similarities between the 2 images\n",
    "    kp_2, desc_2 = sift.detectAndCompute(image_to_compare, None)\n",
    "    matches = flann.knnMatch(desc_1, desc_2, k=2)\n",
    "    good_points = []\n",
    "    for m, n in matches:\n",
    "        if m.distance > 0.6*n.distance:\n",
    "            good_points.append(m)\n",
    "    number_keypoints = 0\n",
    "    if len(kp_1) >= len(kp_2):\n",
    "        number_keypoints = len(kp_1)\n",
    "    else:\n",
    "        number_keypoints = len(kp_2)\n",
    "    print(\"Title: \" + title)\n",
    "    percentage_similarity = len(good_points) / number_keypoints * 100\n",
    "    print(\"Similarity: \" + str(int(percentage_similarity)) + \"\\n\")"
   ]
  },
  {
   "cell_type": "code",
   "execution_count": null,
   "metadata": {},
   "outputs": [],
   "source": []
  }
 ],
 "metadata": {
  "kernelspec": {
   "display_name": "Python 3",
   "language": "python",
   "name": "python3"
  },
  "language_info": {
   "codemirror_mode": {
    "name": "ipython",
    "version": 3
   },
   "file_extension": ".py",
   "mimetype": "text/x-python",
   "name": "python",
   "nbconvert_exporter": "python",
   "pygments_lexer": "ipython3",
   "version": "3.6.9"
  }
 },
 "nbformat": 4,
 "nbformat_minor": 2
}
