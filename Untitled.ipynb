{
 "cells": [
  {
   "cell_type": "code",
   "execution_count": 7,
   "metadata": {},
   "outputs": [
    {
     "name": "stdout",
     "output_type": "stream",
     "text": [
      "0.18481166660785675\n",
      "0.49922820925712585\n",
      "(7, 15)\n",
      "(1, 20)\n"
     ]
    },
    {
     "data": {
      "image/png": "[encoded data removed]",
      "text/plain": [
       "<Figure size 864x288 with 1 Axes>"
      ]
     },
     "metadata": {
      "needs_background": "light"
     },
     "output_type": "display_data"
    }
   ],
   "source": [
    "import cv2\n",
    "import numpy as np\n",
    "import matplotlib.pyplot as plt\n",
    "from skimage import io\n",
    "import random\n",
    "import os\n",
    "    \n",
    "    \n",
    "method = cv2.TM_SQDIFF_NORMED\n",
    "\n",
    "# Read the images from the file\n",
    "small_image = cv2.imread('/Volumes/home/khoi/Project/traffic_sign_detection/media/9_crop.jpg')\n",
    "large_image = cv2.imread('/Volumes/home/khoi/Project/traffic_sign_detection/media/18_crop.jpg')\n",
    "\n",
    "result = cv2.matchTemplate(small_image, large_image, method)\n",
    "\n",
    "# We want the minimum squared difference\n",
    "mn,_,mnLoc,_ = cv2.minMaxLoc(result)\n",
    "minVal, maxVal, minLoc, maxLoc = cv2.minMaxLoc(result)\n",
    "\n",
    "print(minVal)\n",
    "\n",
    "print(maxVal)\n",
    "print(minLoc)\n",
    "print(maxLoc)\n",
    "\n",
    "\n",
    "# Draw the rectangle:\n",
    "# Extract the coordinates of our best match\n",
    "MPx,MPy = mnLoc\n",
    "\n",
    "# Step 2: Get the size of the template. This is the same size as the match.\n",
    "trows,tcols = small_image.shape[:2]\n",
    "\n",
    "# Step 3: Draw the rectangle on large_image\n",
    "cv2.rectangle(large_image, (MPx,MPy),(MPx+tcols,MPy+trows),(0,0,255),2)\n",
    "\n",
    "# Display the original image with the rectangle around the match.\n",
    "fig_size = plt.rcParams[\"figure.figsize\"]\n",
    "fig_size[0] = 12\n",
    "fig_size[1] = 4\n",
    "plt.rcParams[\"figure.figsize\"] = fig_size\n",
    "    \n",
    "plt.axis('off')\n",
    "plt.title('imm')\n",
    "plt.imshow(cv2.cvtColor(large_image,cv2.COLOR_BGR2RGB))\n",
    "plt.show()\n",
    "# cv2.imshow('output',large_image)\n",
    "\n",
    "# The image is only displayed if we call this\n",
    "# cv2.waitKey(0)\n",
    "\n",
    "\n"
   ]
  },
  {
   "cell_type": "code",
   "execution_count": null,
   "metadata": {},
   "outputs": [],
   "source": []
  }
 ],
 "metadata": {
  "kernelspec": {
   "display_name": "Python 3",
   "language": "python",
   "name": "python3"
  },
  "language_info": {
   "codemirror_mode": {
    "name": "ipython",
    "version": 3
   },
   "file_extension": ".py",
   "mimetype": "text/x-python",
   "name": "python",
   "nbconvert_exporter": "python",
   "pygments_lexer": "ipython3",
   "version": "3.6.9"
  }
 },
 "nbformat": 4,
 "nbformat_minor": 2
}
